{
 "cells": [
  {
   "cell_type": "code",
   "execution_count": null,
   "id": "c567eb6d-5eb1-4916-a0a5-a4e3f015646d",
   "metadata": {},
   "outputs": [],
   "source": []
  },
  {
   "cell_type": "code",
   "execution_count": 77,
   "id": "1c4f3a73-f8ff-4d29-bc66-5839209abda2",
   "metadata": {},
   "outputs": [
    {
     "name": "stdin",
     "output_type": "stream",
     "text": [
      "Enter value of n: 3\n"
     ]
    },
    {
     "name": "stdout",
     "output_type": "stream",
     "text": [
      "Generated 3 × 3 puzzle:\n",
      "[3 8 0]\n",
      "[2 7 5]\n",
      "[6 1 4]\n"
     ]
    }
   ],
   "source": [
    "import numpy as np\n",
    "import random\n",
    "\n",
    "n=int(input(\"Enter value of n:\"))\n",
    "numbers=list(range(n*n))\n",
    "random.shuffle(numbers)\n",
    "\n",
    "puzzle = np.array(numbers).reshape(n,n)\n",
    "print(\"Generated\", n, \"×\", n, \"puzzle:\")\n",
    "for row in puzzle:\n",
    "    print(row)"
   ]
  },
  {
   "cell_type": "code",
   "execution_count": null,
   "id": "4870af12-c26d-4e25-a325-e3dec166e376",
   "metadata": {},
   "outputs": [],
   "source": [
    "def goal_test(puzzle):\n",
    "   n=puzzle.shape[0]\n",
    "   goal=np.arange(1,n*n)\n",
    "   goal=np.append(goal,0)\n",
    "   return np.array_equal(puzzle.flatten(), goal)\n",
    "    "
   ]
  },
  {
   "cell_type": "code",
   "execution_count": 101,
   "id": "1d8b2cab-6f53-427f-9eab-8d0bde7903ae",
   "metadata": {},
   "outputs": [],
   "source": [
    "import collections\n",
    "def find_zero(state):\n",
    "    return tuple(np.argwhere(puzzle == 0)[0])\n",
    "            \n",
    "def move_tile(puzzle,direction):\n",
    "   row,col=find_zero(puzzle)\n",
    "   new_puzzle=puzzle.copy()\n",
    "   if direction==\"up\" and row>0:\n",
    "      new_puzzle[row,col],new_puzzle[row-1,col]=new_puzzle[row-1,col],new_puzzle[row,col]\n",
    "\n",
    "   elif direction==\"down\" and row<n-1:\n",
    "        new_puzzle[row,col],new_puzzle[row+1,col]=new_puzzle[row+1,col],new_puzzle[row,col]\n",
    "    \n",
    "   elif direction==\"left\" and col>0:\n",
    "        new_puzzle[row,col],new_puzzle[row,col-1]=new_puzzle[row,col-1],new_puzzle[row,col]\n",
    "\n",
    "   elif direction==\"right\" and col<n-1:\n",
    "        new_puzzle[row,col],new_puzzle[row,col+1]=new_puzzle[row,col+1],new_puzzle[row,col]\n",
    "   else :\n",
    "      return None\n",
    "   return new_puzzle\n",
    "\n"
   ]
  },
  {
   "cell_type": "code",
   "execution_count": 103,
   "id": "664c9c9d-b6cd-41d8-a40b-8b976abeae9a",
   "metadata": {},
   "outputs": [],
   "source": [
    "import collections\n",
    "def bfs_solve(puzzle):\n",
    "     queue=collections.deque(puzzle)\n",
    "     visited=set()\n",
    "     all_states=[]\n",
    "     while queue:\n",
    "       current_state=queue.popleft()\n",
    "       state_tuple = tuple(current_state.flatten())\n",
    "       if state_tuple in visited:\n",
    "            continue\n",
    "       visited.add(state_tuple)\n",
    "       all_states.append(current_state)\n",
    "       for move in [\"left\", \"right\", \"up\", \"down\"]:\n",
    "            new_state = move_tile(current_state, move)\n",
    "            if new_state is not None and tuple(new_state.flatten()) not in visited:\n",
    "                queue.append(new_state)\n"
   ]
  },
  {
   "cell_type": "code",
   "execution_count": 105,
   "id": "84bd17a6-a455-431b-b8cc-cb5b67e4e8fd",
   "metadata": {},
   "outputs": [
    {
     "ename": "IndexError",
     "evalue": "too many indices for array: array is 1-dimensional, but 2 were indexed",
     "output_type": "error",
     "traceback": [
      "\u001b[0;31m---------------------------------------------------------------------------\u001b[0m",
      "\u001b[0;31mIndexError\u001b[0m                                Traceback (most recent call last)",
      "Cell \u001b[0;32mIn[105], line 1\u001b[0m\n\u001b[0;32m----> 1\u001b[0m bfs_solve(puzzle)\n",
      "Cell \u001b[0;32mIn[103], line 14\u001b[0m, in \u001b[0;36mbfs_solve\u001b[0;34m(puzzle)\u001b[0m\n\u001b[1;32m     12\u001b[0m all_states\u001b[38;5;241m.\u001b[39mappend(current_state)\n\u001b[1;32m     13\u001b[0m \u001b[38;5;28;01mfor\u001b[39;00m move \u001b[38;5;129;01min\u001b[39;00m [\u001b[38;5;124m\"\u001b[39m\u001b[38;5;124mleft\u001b[39m\u001b[38;5;124m\"\u001b[39m, \u001b[38;5;124m\"\u001b[39m\u001b[38;5;124mright\u001b[39m\u001b[38;5;124m\"\u001b[39m, \u001b[38;5;124m\"\u001b[39m\u001b[38;5;124mup\u001b[39m\u001b[38;5;124m\"\u001b[39m, \u001b[38;5;124m\"\u001b[39m\u001b[38;5;124mdown\u001b[39m\u001b[38;5;124m\"\u001b[39m]:\n\u001b[0;32m---> 14\u001b[0m      new_state \u001b[38;5;241m=\u001b[39m move_tile(current_state, move)\n\u001b[1;32m     15\u001b[0m      \u001b[38;5;28;01mif\u001b[39;00m new_state \u001b[38;5;129;01mis\u001b[39;00m \u001b[38;5;129;01mnot\u001b[39;00m \u001b[38;5;28;01mNone\u001b[39;00m \u001b[38;5;129;01mand\u001b[39;00m \u001b[38;5;28mtuple\u001b[39m(new_state\u001b[38;5;241m.\u001b[39mflatten()) \u001b[38;5;129;01mnot\u001b[39;00m \u001b[38;5;129;01min\u001b[39;00m visited:\n\u001b[1;32m     16\u001b[0m          queue\u001b[38;5;241m.\u001b[39mappend(new_state)\n",
      "Cell \u001b[0;32mIn[101], line 15\u001b[0m, in \u001b[0;36mmove_tile\u001b[0;34m(puzzle, direction)\u001b[0m\n\u001b[1;32m     12\u001b[0m      new_puzzle[row,col],new_puzzle[row\u001b[38;5;241m+\u001b[39m\u001b[38;5;241m1\u001b[39m,col]\u001b[38;5;241m=\u001b[39mnew_puzzle[row\u001b[38;5;241m+\u001b[39m\u001b[38;5;241m1\u001b[39m,col],new_puzzle[row,col]\n\u001b[1;32m     14\u001b[0m \u001b[38;5;28;01melif\u001b[39;00m direction\u001b[38;5;241m==\u001b[39m\u001b[38;5;124m\"\u001b[39m\u001b[38;5;124mleft\u001b[39m\u001b[38;5;124m\"\u001b[39m \u001b[38;5;129;01mand\u001b[39;00m col\u001b[38;5;241m>\u001b[39m\u001b[38;5;241m0\u001b[39m:\n\u001b[0;32m---> 15\u001b[0m      new_puzzle[row,col],new_puzzle[row,col\u001b[38;5;241m-\u001b[39m\u001b[38;5;241m1\u001b[39m]\u001b[38;5;241m=\u001b[39mnew_puzzle[row,col\u001b[38;5;241m-\u001b[39m\u001b[38;5;241m1\u001b[39m],new_puzzle[row,col]\n\u001b[1;32m     17\u001b[0m \u001b[38;5;28;01melif\u001b[39;00m direction\u001b[38;5;241m==\u001b[39m\u001b[38;5;124m\"\u001b[39m\u001b[38;5;124mright\u001b[39m\u001b[38;5;124m\"\u001b[39m \u001b[38;5;129;01mand\u001b[39;00m col\u001b[38;5;241m<\u001b[39mn\u001b[38;5;241m-\u001b[39m\u001b[38;5;241m1\u001b[39m:\n\u001b[1;32m     18\u001b[0m      new_puzzle[row,col],new_puzzle[row,col\u001b[38;5;241m+\u001b[39m\u001b[38;5;241m1\u001b[39m]\u001b[38;5;241m=\u001b[39mnew_puzzle[row,col\u001b[38;5;241m+\u001b[39m\u001b[38;5;241m1\u001b[39m],new_puzzle[row,col]\n",
      "\u001b[0;31mIndexError\u001b[0m: too many indices for array: array is 1-dimensional, but 2 were indexed"
     ]
    }
   ],
   "source": [
    "bfs_solve(puzzle)"
   ]
  },
  {
   "cell_type": "code",
   "execution_count": null,
   "id": "3fbd7a76-fc93-4846-919d-f6eb5e454895",
   "metadata": {},
   "outputs": [],
   "source": []
  }
 ],
 "metadata": {
  "kernelspec": {
   "display_name": "Python [conda env:base] *",
   "language": "python",
   "name": "conda-base-py"
  },
  "language_info": {
   "codemirror_mode": {
    "name": "ipython",
    "version": 3
   },
   "file_extension": ".py",
   "mimetype": "text/x-python",
   "name": "python",
   "nbconvert_exporter": "python",
   "pygments_lexer": "ipython3",
   "version": "3.12.7"
  }
 },
 "nbformat": 4,
 "nbformat_minor": 5
}
