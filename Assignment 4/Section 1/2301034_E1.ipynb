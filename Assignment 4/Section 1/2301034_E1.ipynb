{
 "cells": [
  {
   "cell_type": "code",
   "execution_count": 10,
   "id": "832a2847-cc56-40f4-84cb-12284bf2456a",
   "metadata": {},
   "outputs": [
    {
     "name": "stdin",
     "output_type": "stream",
     "text": [
      "enter your first value 1\n",
      "enter the second value 2\n",
      "enter the third value 3\n"
     ]
    },
    {
     "name": "stdout",
     "output_type": "stream",
     "text": [
      "2.3333333333333335\n"
     ]
    }
   ],
   "source": [
    "val1=int(input(\"enter your first value\"))\n",
    "\n",
    "val2=int(input(\"enter the second value\"))\n",
    "val3=int(input(\"enter the third value\"))\n",
    "\n",
    "avg=(val1+val3+val3)/3\n",
    "print(avg)"
   ]
  },
  {
   "cell_type": "code",
   "execution_count": 6,
   "id": "fe6bcdfe-4c36-4a3b-a234-f94296759e34",
   "metadata": {},
   "outputs": [
    {
     "name": "stdout",
     "output_type": "stream",
     "text": [
      "last character: n\n",
      "reversed string: nuf si gnimmargorp nohtyP\n",
      "number of i in the string:  2\n"
     ]
    }
   ],
   "source": [
    "str=\"Python programming is fun\"\n",
    "last_character=str[-1]\n",
    "print(\"last character:\",last_character)\n",
    "reverse=str[::-1]\n",
    "print(\"reversed string:\",reverse)\n",
    "count_i=str.count('i')\n",
    "print(\"number of i in the string: \",count_i)"
   ]
  },
  {
   "cell_type": "code",
   "execution_count": 29,
   "id": "8fea51c9-4e42-4670-8e70-1120e08b5709",
   "metadata": {},
   "outputs": [
    {
     "name": "stdout",
     "output_type": "stream",
     "text": [
      "{'person1': 34, 'person2': 56, 'person3': 23, 'person4': 15}\n"
     ]
    }
   ],
   "source": [
    "names=['person1','person2','person3','person4']\n",
    "ages=[34,56,23,15]\n",
    "name_age_dict=dict(zip(names,ages))\n",
    "print(name_age_dict)"
   ]
  },
  {
   "cell_type": "code",
   "execution_count": 4,
   "id": "560a726b-08af-4861-bc12-90d7be5541c8",
   "metadata": {},
   "outputs": [
    {
     "name": "stdout",
     "output_type": "stream",
     "text": [
      "odd numbers: \n",
      "7\n",
      "1\n",
      "9\n",
      "sum of even number : 30\n"
     ]
    }
   ],
   "source": [
    "num=[4,7,1,2,6,8,9,10]\n",
    "print(\"odd numbers: \")\n",
    "for x in num:\n",
    "  if x%2 != 0:\n",
    "    print(x)\n",
    "sum=0\n",
    "for y in num:\n",
    "    if y%2==0:\n",
    "      sum=sum+y\n",
    "\n",
    "print(\"sum of even number :\",sum)"
   ]
  },
  {
   "cell_type": "code",
   "execution_count": 47,
   "id": "f00e53cb-92e1-4fca-ae0a-7c67f1464d34",
   "metadata": {},
   "outputs": [
    {
     "name": "stdout",
     "output_type": "stream",
     "text": [
      "78.53981633974483\n"
     ]
    }
   ],
   "source": [
    "import math\n",
    "\n",
    "def calculate_circle_area(radius):\n",
    "  return math.pi*radius*radius\n",
    "    \n",
    "radius=5\n",
    "area=calculate_circle_area(radius)\n",
    "print(area)\n",
    "\n",
    "  "
   ]
  },
  {
   "cell_type": "code",
   "execution_count": 118,
   "id": "9b2e8337-c0d2-401f-87f9-e5b4eaad5bfa",
   "metadata": {},
   "outputs": [
    {
     "name": "stdout",
     "output_type": "stream",
     "text": [
      "saved file\n"
     ]
    }
   ],
   "source": [
    "\n",
    "\n",
    "def replace_word_in_file(inputFile,outputFile):\n",
    "     with open(inputFile, 'r') as inputfile:\n",
    "            content = inputfile.read()\n",
    "            modified_content = content.replace(\"Python\", \"JavaScript\")\n",
    "     with open(outputFile, 'w') as outputfile:\n",
    "            outputfile.write(modified_content)\n",
    "     print(\"saved file\")\n",
    "\n",
    "\n",
    "input=\"inputFile.txt\"\n",
    "output=\"outputFile.txt\"\n",
    "replace_word_in_file(input,output)\n",
    "    \n"
   ]
  },
  {
   "cell_type": "code",
   "execution_count": 114,
   "id": "aeea6523-784d-444d-a980-e01b66804447",
   "metadata": {},
   "outputs": [
    {
     "name": "stdout",
     "output_type": "stream",
     "text": [
      "total number of vowels in the text file: 5\n"
     ]
    }
   ],
   "source": [
    "\n",
    "def count_vowel_frequency(input_file):\n",
    "    vowel_list=['a','e','i','o','u','A','E','I','O','U']\n",
    "    file=open(input_file,'r')\n",
    "    vowel=0\n",
    "    for x in file.read():\n",
    "       if x in vowel_list:\n",
    "           vowel=vowel+1\n",
    "    \n",
    "    print(\"total number of vowels in the text file:\",vowel)\n",
    "\n",
    "\n",
    "count_vowel_frequency(\"input_file.txt\")\n",
    "    "
   ]
  },
  {
   "cell_type": "code",
   "execution_count": 70,
   "id": "73bb7d15-be9f-439e-a84f-6607ec1bbd9f",
   "metadata": {},
   "outputs": [
    {
     "name": "stdout",
     "output_type": "stream",
     "text": [
      "array:  [[17 10  3 13 19]\n",
      " [ 7 18 10  1  3]]\n",
      "rehsaped array: [[17 10]\n",
      " [ 3 13]\n",
      " [19  7]\n",
      " [18 10]\n",
      " [ 1  3]]\n",
      "mean value: 10.1\n",
      "standard deviation:  6.252199612936234\n"
     ]
    }
   ],
   "source": [
    "import numpy as np\n",
    "array=np.random.randint(1 ,21 , size=(2,5))\n",
    "reshaped_array=array.reshape(5,2)\n",
    "mean_value=array.mean()\n",
    "std_value=array.std()\n",
    "\n",
    "print(\"array: \",array)\n",
    "print(\"rehsaped array:\",reshaped_array)\n",
    "print(\"mean value:\",mean_value)\n",
    "print(\"standard deviation: \",std_value)\n",
    "\n",
    "\n",
    "\n"
   ]
  },
  {
   "cell_type": "code",
   "execution_count": 76,
   "id": "c1d85095-0507-401d-8e72-463e26ba7b38",
   "metadata": {},
   "outputs": [
    {
     "name": "stdout",
     "output_type": "stream",
     "text": [
      "  Product  Price  Quantity  TotalScales\n",
      "0      P1     13       198         2574\n",
      "1      P2     20        51         1020\n",
      "2      P3     11        88          968\n",
      "3      P4     19        32          608\n",
      "after sorting: \n",
      "  Product  Price  Quantity  TotalScales\n",
      "0      P1     13       198         2574\n",
      "1      P2     20        51         1020\n",
      "2      P3     11        88          968\n",
      "3      P4     19        32          608\n"
     ]
    }
   ],
   "source": [
    "import pandas as pd\n",
    "data={\n",
    "  'Product': ['P1', 'P2', 'P3', 'P4'],\n",
    "  'Price': [13, 20, 11, 19],\n",
    "  'Quantity': [198, 51, 88, 32]\n",
    "    \n",
    "}\n",
    "\n",
    "df=pd.DataFrame(data)\n",
    "df['TotalScales']=df['Price']*df['Quantity']\n",
    "print(df)\n",
    "\n",
    "df=df.sort_values(by='TotalScales',ascending=False)\n",
    "print(\"after sorting: \")\n",
    "print(df)"
   ]
  },
  {
   "cell_type": "code",
   "execution_count": 87,
   "id": "203a4e8a-96b6-4645-aa81-a33728db1245",
   "metadata": {},
   "outputs": [
    {
     "name": "stdout",
     "output_type": "stream",
     "text": [
      "inverse array: \n",
      "[[ 3.5 -9.   7.5]\n",
      " [-2.   4.  -3. ]\n",
      " [-0.   1.  -1. ]]\n"
     ]
    }
   ],
   "source": [
    "import numpy as np\n",
    "arr=[[2,3,6],[4,7,9],[4,7,8]]\n",
    "det=np.linalg.det(arr)\n",
    "if det == 0:\n",
    "    print(\"The matrix is singular and does not have an inverse.\")\n",
    "else:\n",
    "  arr_inverse=np.linalg.inv(arr)\n",
    "  print(\"inverse array: \")\n",
    "  print(arr_inverse)"
   ]
  },
  {
   "cell_type": "code",
   "execution_count": 100,
   "id": "e76a02ba-bb16-432e-85ef-0b029543269f",
   "metadata": {},
   "outputs": [
    {
     "data": {
      "image/png": "[encoded data removed]",
      "text/plain": [
       "<Figure size 640x480 with 1 Axes>"
      ]
     },
     "metadata": {},
     "output_type": "display_data"
    }
   ],
   "source": [
    "\n",
    "import matplotlib.pyplot as plt\n",
    "import pandas as pd\n",
    "\n",
    "sales_data = {\n",
    "    'region': ['region1', 'region2', 'region3', 'region4'],\n",
    "    'sales': [45000, 98000, 12000, 34000]\n",
    "}\n",
    "\n",
    "df = pd.DataFrame(sales_data)\n",
    "plt.bar(df['region'], df['sales'], color='skyblue')\n",
    "\n",
    "plt.xlabel(\"Region\")\n",
    "plt.ylabel(\"Sales\")\n",
    "plt.title(\"Sales by Region\")\n",
    "\n",
    "plt.show()\n"
   ]
  },
  {
   "cell_type": "code",
   "execution_count": null,
   "id": "7f3cc507-620e-4eba-a96c-e90066d6c9a4",
   "metadata": {},
   "outputs": [],
   "source": []
  },
  {
   "cell_type": "code",
   "execution_count": null,
   "id": "d477fdb9-2421-4147-b8a1-d31fd24f51e8",
   "metadata": {},
   "outputs": [],
   "source": []
  }
 ],
 "metadata": {
  "kernelspec": {
   "display_name": "Python [conda env:base] *",
   "language": "python",
   "name": "conda-base-py"
  },
  "language_info": {
   "codemirror_mode": {
    "name": "ipython",
    "version": 3
   },
   "file_extension": ".py",
   "mimetype": "text/x-python",
   "name": "python",
   "nbconvert_exporter": "python",
   "pygments_lexer": "ipython3",
   "version": "3.12.7"
  }
 },
 "nbformat": 4,
 "nbformat_minor": 5
}
