{
 "cells": [
  {
   "cell_type": "code",
   "execution_count": null,
   "id": "86c0317b-e084-4daf-919f-4370d7d06bd2",
   "metadata": {},
   "outputs": [],
   "source": [
    "names=['person1','person2','person3','person3']\n",
    "ages=[34,56,23,15]\n"
   ]
  }
 ],
 "metadata": {
  "kernelspec": {
   "display_name": "Python [conda env:base] *",
   "language": "python",
   "name": "conda-base-py"
  },
  "language_info": {
   "codemirror_mode": {
    "name": "ipython",
    "version": 3
   },
   "file_extension": ".py",
   "mimetype": "text/x-python",
   "name": "python",
   "nbconvert_exporter": "python",
   "pygments_lexer": "ipython3",
   "version": "3.12.7"
  }
 },
 "nbformat": 4,
 "nbformat_minor": 5
}
