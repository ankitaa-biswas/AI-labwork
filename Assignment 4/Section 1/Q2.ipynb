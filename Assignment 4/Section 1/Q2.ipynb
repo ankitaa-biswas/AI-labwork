{
 "cells": [
  {
   "cell_type": "code",
   "execution_count": 6,
   "id": "ce47ebd4-be3b-4c45-a99d-b768b9059b80",
   "metadata": {},
   "outputs": [],
   "source": [
    "str=\"Python programming is fun\"\n",
    "str=\"Python programming is fun\"[::1]"
   ]
  },
  {
   "cell_type": "code",
   "execution_count": null,
   "id": "a5b9c7bb-c299-4a6f-b0f6-dc2f0b46ee95",
   "metadata": {},
   "outputs": [],
   "source": []
  },
  {
   "cell_type": "code",
   "execution_count": null,
   "id": "d710046d-8c0d-4e4b-8b5b-5d0d150ae3db",
   "metadata": {},
   "outputs": [],
   "source": []
  }
 ],
 "metadata": {
  "kernelspec": {
   "display_name": "Python [conda env:base] *",
   "language": "python",
   "name": "conda-base-py"
  },
  "language_info": {
   "codemirror_mode": {
    "name": "ipython",
    "version": 3
   },
   "file_extension": ".py",
   "mimetype": "text/x-python",
   "name": "python",
   "nbconvert_exporter": "python",
   "pygments_lexer": "ipython3",
   "version": "3.12.7"
  }
 },
 "nbformat": 4,
 "nbformat_minor": 5
}
