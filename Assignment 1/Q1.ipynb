{
 "cells": [
  {
   "cell_type": "code",
   "execution_count": 5,
   "id": "2f80515d-838f-48b1-8f4d-00f343369b59",
   "metadata": {},
   "outputs": [
    {
     "name": "stdout",
     "output_type": "stream",
     "text": [
      "<class 'str'>\n",
      "<class 'int'>\n"
     ]
    }
   ],
   "source": [
    "x=\"string\"\n",
    "y=34\n",
    "print(type(x))\n",
    "print(type(y))"
   ]
  },
  {
   "cell_type": "code",
   "execution_count": 4,
   "id": "00117db2-07ff-4a4f-b2a7-9fe08ecc0a46",
   "metadata": {},
   "outputs": [
    {
     "name": "stdout",
     "output_type": "stream",
     "text": [
      "addition is  162\n",
      "substraction is  -10\n",
      "multiplication is  6536\n",
      "division is  0.8837209302325582\n"
     ]
    }
   ],
   "source": [
    "x=76\n",
    "y=86\n",
    "print(\"addition is \",x+y)\n",
    "print(\"substraction is \", x-y)\n",
    "print(\"multiplication is \", x*y)\n",
    "print(\"division is \", x/y)"
   ]
  },
  {
   "cell_type": "code",
   "execution_count": 6,
   "id": "fb62f6b7-a71b-43c2-bc4b-c2c2515c3f56",
   "metadata": {},
   "outputs": [
    {
     "name": "stdout",
     "output_type": "stream",
     "text": [
      "length of the string is  6\n"
     ]
    }
   ],
   "source": [
    "x=\"python\"\n",
    "print(\"length of the string is \" , len(x))"
   ]
  },
  {
   "cell_type": "code",
   "execution_count": 17,
   "id": "e3e1765d-a2d0-4ee1-9a9d-8cf12c259a53",
   "metadata": {},
   "outputs": [
    {
     "name": "stdout",
     "output_type": "stream",
     "text": [
      "<class 'int'>\n"
     ]
    }
   ],
   "source": [
    "x=\"123\"\n",
    "y=int(x)\n",
    "print(type(y))"
   ]
  },
  {
   "cell_type": "code",
   "execution_count": null,
   "id": "af8dd60d-f628-4915-8dc8-f4b2c019524f",
   "metadata": {},
   "outputs": [],
   "source": []
  }
 ],
 "metadata": {
  "kernelspec": {
   "display_name": "Python [conda env:base] *",
   "language": "python",
   "name": "conda-base-py"
  },
  "language_info": {
   "codemirror_mode": {
    "name": "ipython",
    "version": 3
   },
   "file_extension": ".py",
   "mimetype": "text/x-python",
   "name": "python",
   "nbconvert_exporter": "python",
   "pygments_lexer": "ipython3",
   "version": "3.12.7"
  }
 },
 "nbformat": 4,
 "nbformat_minor": 5
}
