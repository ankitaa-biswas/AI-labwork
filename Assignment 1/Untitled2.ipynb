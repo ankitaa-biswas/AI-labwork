{
 "cells": [
  {
   "cell_type": "code",
   "execution_count": 22,
   "id": "69fdf140-dc8c-4e75-86e9-4cb161daaa6e",
   "metadata": {},
   "outputs": [
    {
     "name": "stdout",
     "output_type": "stream",
     "text": [
      "[1, 2, 3, 4, 5, 5, 4, 2, 8, 9]\n",
      "2\n",
      "4\n",
      "4\n",
      "2\n",
      "8\n"
     ]
    }
   ],
   "source": [
    "list1=[1,2,3,4,5]\n",
    "list2=[5,4,2,8,9]\n",
    "list3=list1+list2\n",
    "print(list3)\n",
    "for num in list3:\n",
    "  if num%2==0:\n",
    "   print(num)\n"
   ]
  },
  {
   "cell_type": "code",
   "execution_count": null,
   "id": "03fcdd18-05b0-4cc0-9725-23bf9d43e46c",
   "metadata": {},
   "outputs": [],
   "source": []
  }
 ],
 "metadata": {
  "kernelspec": {
   "display_name": "Python [conda env:base] *",
   "language": "python",
   "name": "conda-base-py"
  },
  "language_info": {
   "codemirror_mode": {
    "name": "ipython",
    "version": 3
   },
   "file_extension": ".py",
   "mimetype": "text/x-python",
   "name": "python",
   "nbconvert_exporter": "python",
   "pygments_lexer": "ipython3",
   "version": "3.12.7"
  }
 },
 "nbformat": 4,
 "nbformat_minor": 5
}
