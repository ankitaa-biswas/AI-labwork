{
 "cells": [
  {
   "cell_type": "code",
   "execution_count": 2,
   "id": "1905136f-da52-4adb-88f3-20bbdfab4d28",
   "metadata": {},
   "outputs": [
    {
     "name": "stdout",
     "output_type": "stream",
     "text": [
      "Inside the function: This is the local variable.\n",
      "Outside the function: This is the global variable.\n"
     ]
    }
   ],
   "source": [
    "message = \"This is the global variable.\"\n",
    "\n",
    "def demonstrate_scope():\n",
    "   \n",
    "    message = \"This is the local variable.\"\n",
    "    print(\"Inside the function:\", message)\n",
    "\n",
    "\n",
    "demonstrate_scope()  \n",
    "print(\"Outside the function:\", message) "
   ]
  },
  {
   "cell_type": "code",
   "execution_count": null,
   "id": "e7f412b1-ad76-4d86-b43f-0ef14ac76bc0",
   "metadata": {},
   "outputs": [],
   "source": []
  }
 ],
 "metadata": {
  "kernelspec": {
   "display_name": "Python [conda env:base] *",
   "language": "python",
   "name": "conda-base-py"
  },
  "language_info": {
   "codemirror_mode": {
    "name": "ipython",
    "version": 3
   },
   "file_extension": ".py",
   "mimetype": "text/x-python",
   "name": "python",
   "nbconvert_exporter": "python",
   "pygments_lexer": "ipython3",
   "version": "3.12.7"
  }
 },
 "nbformat": 4,
 "nbformat_minor": 5
}
