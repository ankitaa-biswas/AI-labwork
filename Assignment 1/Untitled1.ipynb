{
 "cells": [
  {
   "cell_type": "code",
   "execution_count": 13,
   "id": "61f447bf-9d92-4069-bdfa-ec58b44685b0",
   "metadata": {},
   "outputs": [
    {
     "name": "stdout",
     "output_type": "stream",
     "text": [
      "[1, 2, 3, 4, 5, 6]\n",
      "from the third position:  [3, 4, 5, 6]\n"
     ]
    }
   ],
   "source": [
    "list=[1,2,3,4,5,6]\n",
    "print(list)\n",
    "print(\"from the third position: \",list[2:])\n",
    "mid=len(list)/2\n",
    "list.insert(int(mid),40)\n"
   ]
  },
  {
   "cell_type": "code",
   "execution_count": null,
   "id": "13aff4d1-19a1-4e7a-b4af-3e82c71c160c",
   "metadata": {},
   "outputs": [],
   "source": []
  }
 ],
 "metadata": {
  "kernelspec": {
   "display_name": "Python [conda env:base] *",
   "language": "python",
   "name": "conda-base-py"
  },
  "language_info": {
   "codemirror_mode": {
    "name": "ipython",
    "version": 3
   },
   "file_extension": ".py",
   "mimetype": "text/x-python",
   "name": "python",
   "nbconvert_exporter": "python",
   "pygments_lexer": "ipython3",
   "version": "3.12.7"
  }
 },
 "nbformat": 4,
 "nbformat_minor": 5
}
