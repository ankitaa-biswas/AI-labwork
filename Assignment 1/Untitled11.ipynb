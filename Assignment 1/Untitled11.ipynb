{
 "cells": [
  {
   "cell_type": "code",
   "execution_count": null,
   "id": "31c8a001-d4cd-4e62-8341-8e1e7b5837f2",
   "metadata": {},
   "outputs": [],
   "source": [
    "def calculate_rectangle_area(length=1,widhth=1):\n",
    "    return length*width\n",
    "area1 = calculate_rectangle_area(5, 3)\n",
    "print(\"Area with positional arguments (length=5, width=3):\", area1)\n",
    "area2 = calculate_rectangle_area(length=7, width=4)\n",
    "print(\"Area with keyword arguments (length=7, width=4):\", area2)\n",
    "area3 = calculate_rectangle_area()\n",
    "print(\"Area with default values (length=1, width=1):\", area3)"
   ]
  }
 ],
 "metadata": {
  "kernelspec": {
   "display_name": "Python [conda env:base] *",
   "language": "python",
   "name": "conda-base-py"
  },
  "language_info": {
   "codemirror_mode": {
    "name": "ipython",
    "version": 3
   },
   "file_extension": ".py",
   "mimetype": "text/x-python",
   "name": "python",
   "nbconvert_exporter": "python",
   "pygments_lexer": "ipython3",
   "version": "3.12.7"
  }
 },
 "nbformat": 4,
 "nbformat_minor": 5
}
