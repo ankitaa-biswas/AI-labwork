{
 "cells": [
  {
   "cell_type": "code",
   "execution_count": 25,
   "id": "41cd8998-effc-4e6f-a00b-bef8646ab8c2",
   "metadata": {},
   "outputs": [
    {
     "name": "stdout",
     "output_type": "stream",
     "text": [
      "{'first nam': 'John', 'last name': 'Doe', 'age': 25, 'favorite colors': ['blue', 'green'], 'active': True}\n",
      "keys  are  dict_keys(['first nam', 'last name', 'age', 'favorite colors', 'active'])\n",
      "values are  dict_values(['John', 'Doe', 25, ['blue', 'green'], True])\n",
      "the second value  Doe\n"
     ]
    }
   ],
   "source": [
    "person = {'first nam': 'John',\n",
    "          'last name': 'Doe', \n",
    "           'age':25,\n",
    "           'favorite colors': ['blue', 'green'],\n",
    "           'active': True}\n",
    "print(person)\n",
    "print(\"keys  are \", person.keys())\n",
    "print(\"values are \",person.values())\n",
    "\n",
    "\n",
    "values_list = list(person.values())\n",
    "second_value = values_list[1]\n",
    "\n",
    "print(\"the second value \" ,second_value)"
   ]
  },
  {
   "cell_type": "code",
   "execution_count": null,
   "id": "9b9a7aca-ee5c-49c7-8538-85dab1a5ed2e",
   "metadata": {},
   "outputs": [],
   "source": []
  }
 ],
 "metadata": {
  "kernelspec": {
   "display_name": "Python [conda env:base] *",
   "language": "python",
   "name": "conda-base-py"
  },
  "language_info": {
   "codemirror_mode": {
    "name": "ipython",
    "version": 3
   },
   "file_extension": ".py",
   "mimetype": "text/x-python",
   "name": "python",
   "nbconvert_exporter": "python",
   "pygments_lexer": "ipython3",
   "version": "3.12.7"
  }
 },
 "nbformat": 4,
 "nbformat_minor": 5
}
