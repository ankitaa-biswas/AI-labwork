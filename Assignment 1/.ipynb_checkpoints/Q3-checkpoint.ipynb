{
 "cells": [
  {
   "cell_type": "code",
   "execution_count": 12,
   "id": "08ac1c86-de45-4b4c-9f06-f89d9dfe1813",
   "metadata": {},
   "outputs": [
    {
     "name": "stdout",
     "output_type": "stream",
     "text": [
      "initial character is: I\n",
      "2nd to 5th position characters are: am a\n",
      "starting from the third position:am a computer science student\n"
     ]
    }
   ],
   "source": [
    "str=\"I am a computer science student\"\n",
    "print(\"initial character is: \"+str[0])\n",
    "print(\"2nd to 5th position characters are:\"+ str[1:6])\n",
    "print(\"starting from the third position:\"+str[2:])"
   ]
  },
  {
   "cell_type": "code",
   "execution_count": null,
   "id": "67c363eb-e997-4792-b3fd-51c2ad00a427",
   "metadata": {},
   "outputs": [],
   "source": []
  }
 ],
 "metadata": {
  "kernelspec": {
   "display_name": "Python [conda env:base] *",
   "language": "python",
   "name": "conda-base-py"
  },
  "language_info": {
   "codemirror_mode": {
    "name": "ipython",
    "version": 3
   },
   "file_extension": ".py",
   "mimetype": "text/x-python",
   "name": "python",
   "nbconvert_exporter": "python",
   "pygments_lexer": "ipython3",
   "version": "3.12.7"
  }
 },
 "nbformat": 4,
 "nbformat_minor": 5
}
