{
 "cells": [
  {
   "cell_type": "code",
   "execution_count": 2,
   "id": "08ac1c86-de45-4b4c-9f06-f89d9dfe1813",
   "metadata": {},
   "outputs": [
    {
     "name": "stdout",
     "output_type": "stream",
     "text": [
      "initial character is: I\n"
     ]
    }
   ],
   "source": [
    "str=\"I am a computer science student\"\n",
    "print(\"initial character is: \"+str[0])\n",
    "print(\"2nd to 5th position characters are \"+ str[])"
   ]
  },
  {
   "cell_type": "code",
   "execution_count": null,
   "id": "67c363eb-e997-4792-b3fd-51c2ad00a427",
   "metadata": {},
   "outputs": [],
   "source": []
  }
 ],
 "metadata": {
  "kernelspec": {
   "display_name": "Python [conda env:base] *",
   "language": "python",
   "name": "conda-base-py"
  },
  "language_info": {
   "codemirror_mode": {
    "name": "ipython",
    "version": 3
   },
   "file_extension": ".py",
   "mimetype": "text/x-python",
   "name": "python",
   "nbconvert_exporter": "python",
   "pygments_lexer": "ipython3",
   "version": "3.12.7"
  }
 },
 "nbformat": 4,
 "nbformat_minor": 5
}
