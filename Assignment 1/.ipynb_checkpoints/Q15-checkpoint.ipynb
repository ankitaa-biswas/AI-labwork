{
 "cells": [
  {
   "cell_type": "code",
   "execution_count": 5,
   "id": "89f24970-04fa-4150-b196-c383ada3656f",
   "metadata": {},
   "outputs": [
    {
     "name": "stdout",
     "output_type": "stream",
     "text": [
      "Average grades by student ID: {101: 84.33333333333333, 102: 84.0, 103: 0}\n"
     ]
    }
   ],
   "source": [
    "def process_student_data(students):\n",
    "    averages = {}\n",
    "    for student in students:\n",
    "        student_id = student['id']\n",
    "        grades = student['grades']\n",
    "        if grades:  # Ensure grades are not empty\n",
    "            average_grade = sum(grades) / len(grades)\n",
    "        else:\n",
    "            average_grade = 0  # Handle case with no grades\n",
    "        averages[student_id] = average_grade\n",
    "    return averages\n",
    "students_data = [\n",
    "    {\"name\": \"Alice\", \"id\": 101, \"grades\": [85, 90, 78]},\n",
    "    {\"name\": \"Bob\", \"id\": 102, \"grades\": [72, 88, 91, 85]},\n",
    "    {\"name\": \"Charlie\", \"id\": 103, \"grades\": []},  # No grades\n",
    "]\n",
    "\n",
    "result = process_student_data(students_data)\n",
    "print(\"Average grades by student ID:\", result)"
   ]
  },
  {
   "cell_type": "code",
   "execution_count": null,
   "id": "da3e7946-6ace-4d6a-8c35-ace241b0ecc8",
   "metadata": {},
   "outputs": [],
   "source": []
  }
 ],
 "metadata": {
  "kernelspec": {
   "display_name": "Python [conda env:base] *",
   "language": "python",
   "name": "conda-base-py"
  },
  "language_info": {
   "codemirror_mode": {
    "name": "ipython",
    "version": 3
   },
   "file_extension": ".py",
   "mimetype": "text/x-python",
   "name": "python",
   "nbconvert_exporter": "python",
   "pygments_lexer": "ipython3",
   "version": "3.12.7"
  }
 },
 "nbformat": 4,
 "nbformat_minor": 5
}
