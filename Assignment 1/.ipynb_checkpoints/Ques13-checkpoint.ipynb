{
 "cells": [
  {
   "cell_type": "code",
   "execution_count": 4,
   "id": "31c8a001-d4cd-4e62-8341-8e1e7b5837f2",
   "metadata": {},
   "outputs": [
    {
     "name": "stdout",
     "output_type": "stream",
     "text": [
      "Area with positional arguments (length=5, width=3): 15\n",
      "Area with keyword arguments (length=7, width=4): 28\n",
      "Area with default values (length=1, width=1): 1\n"
     ]
    }
   ],
   "source": [
    "def calculate_rectangle_area(length=1,width=1):\n",
    "    return length*width\n",
    "area1 = calculate_rectangle_area(5, 3)\n",
    "print(\"Area with positional arguments (length=5, width=3):\", area1)\n",
    "area2 = calculate_rectangle_area(length=7, width=4)\n",
    "print(\"Area with keyword arguments (length=7, width=4):\", area2)\n",
    "area3 = calculate_rectangle_area()\n",
    "print(\"Area with default values (length=1, width=1):\", area3)"
   ]
  },
  {
   "cell_type": "code",
   "execution_count": null,
   "id": "b5e0e0d4-6b9f-491b-bad5-f713a6c67e2f",
   "metadata": {},
   "outputs": [],
   "source": []
  }
 ],
 "metadata": {
  "kernelspec": {
   "display_name": "Python [conda env:base] *",
   "language": "python",
   "name": "conda-base-py"
  },
  "language_info": {
   "codemirror_mode": {
    "name": "ipython",
    "version": 3
   },
   "file_extension": ".py",
   "mimetype": "text/x-python",
   "name": "python",
   "nbconvert_exporter": "python",
   "pygments_lexer": "ipython3",
   "version": "3.12.7"
  }
 },
 "nbformat": 4,
 "nbformat_minor": 5
}
