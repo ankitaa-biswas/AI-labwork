{
 "cells": [
  {
   "cell_type": "code",
   "execution_count": 20,
   "id": "1608388c-b2f6-4943-bb89-83cc18118413",
   "metadata": {},
   "outputs": [
    {
     "name": "stdout",
     "output_type": "stream",
     "text": [
      "45\n",
      "{'student1': 45, 'student2': 89, 'studnet3': 90, 'student4': 95, 'student5': 76, 'student6': 76}\n",
      "{'student1': 45, 'student2': 87, 'studnet3': 90, 'student4': 95, 'student5': 76, 'student6': 76}\n",
      "student4 95\n"
     ]
    }
   ],
   "source": [
    "students_grades={\n",
    "    \"student1\":45,\n",
    "    \"student2\":89,\n",
    "    \"studnet3\":90,\n",
    "    \"student4\":95,\n",
    "    \"student5\":76\n",
    "    \n",
    "\n",
    "}\n",
    "\n",
    "print(students_grades[\"student1\"])\n",
    "students_grades[\"student6\"]=76\n",
    "print(students_grades)\n",
    "students_grades[\"student2\"]=87\n",
    "print(students_grades)\n",
    "\n",
    "\n",
    "\n",
    "for key, value in students_grades.items():\n",
    "    if value>90:\n",
    "     print(key , value)"
   ]
  },
  {
   "cell_type": "code",
   "execution_count": null,
   "id": "60e857a3-0b43-447a-a2b4-0bcea57eac1c",
   "metadata": {},
   "outputs": [],
   "source": []
  }
 ],
 "metadata": {
  "kernelspec": {
   "display_name": "Python [conda env:base] *",
   "language": "python",
   "name": "conda-base-py"
  },
  "language_info": {
   "codemirror_mode": {
    "name": "ipython",
    "version": 3
   },
   "file_extension": ".py",
   "mimetype": "text/x-python",
   "name": "python",
   "nbconvert_exporter": "python",
   "pygments_lexer": "ipython3",
   "version": "3.12.7"
  }
 },
 "nbformat": 4,
 "nbformat_minor": 5
}
