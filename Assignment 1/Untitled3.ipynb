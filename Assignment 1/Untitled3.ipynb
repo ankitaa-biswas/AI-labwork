{
 "cells": [
  {
   "cell_type": "code",
   "execution_count": 1,
   "id": "b7ec5122-f3a6-41c7-9c85-6bc0f16a10ba",
   "metadata": {},
   "outputs": [
    {
     "name": "stdout",
     "output_type": "stream",
     "text": [
      "(1, 4, 5, 6, 7, 'str1', 'str2', 7.8)\n"
     ]
    }
   ],
   "source": [
    "this_tupple=(1,4,5,6,7,\"str1\",\"str2\",7.8)\n",
    "print(this_tupple)\n"
   ]
  },
  {
   "cell_type": "code",
   "execution_count": 3,
   "id": "e9c4b9fd-cc7c-4d9e-8124-8d125288cd82",
   "metadata": {},
   "outputs": [
    {
     "name": "stdout",
     "output_type": "stream",
     "text": [
      "('programming', 'programming', 'programming')\n"
     ]
    }
   ],
   "source": [
    "tupple2=(\"programming\",\"programming\",\"programming\")\n",
    "print(tupple2)"
   ]
  },
  {
   "cell_type": "code",
   "execution_count": null,
   "id": "bda987ae-01f7-4833-8bb9-891edfb85a6f",
   "metadata": {},
   "outputs": [],
   "source": [
    "tupple_1=(\"x\",\"y\",5,6,9.6)\n",
    "tupple_2=(7,9,0.4)\n"
   ]
  }
 ],
 "metadata": {
  "kernelspec": {
   "display_name": "Python [conda env:base] *",
   "language": "python",
   "name": "conda-base-py"
  },
  "language_info": {
   "codemirror_mode": {
    "name": "ipython",
    "version": 3
   },
   "file_extension": ".py",
   "mimetype": "text/x-python",
   "name": "python",
   "nbconvert_exporter": "python",
   "pygments_lexer": "ipython3",
   "version": "3.12.7"
  }
 },
 "nbformat": 4,
 "nbformat_minor": 5
}
