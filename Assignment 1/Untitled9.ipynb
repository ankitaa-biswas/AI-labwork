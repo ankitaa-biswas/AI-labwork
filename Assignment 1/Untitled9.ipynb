{
 "cells": [
  {
   "cell_type": "code",
   "execution_count": 10,
   "id": "4581c5b0-9643-488b-b23a-22b0ee23d5cd",
   "metadata": {},
   "outputs": [
    {
     "name": "stdout",
     "output_type": "stream",
     "text": [
      "items are:\n",
      "item1\n",
      "item2\n",
      "item3\n",
      "item4\n",
      "values are:\n",
      "3\n",
      "7\n",
      "1\n",
      "5\n"
     ]
    }
   ],
   "source": [
    "inventory={\n",
    "    \"item1\":3,\n",
    "    \"item2\":7,\n",
    "    \"item3\":1,\n",
    "    \"item4\":5\n",
    "}\n",
    "print(\"items are:\")\n",
    "for key, value in inventory.items():\n",
    "    print(key)\n",
    "print(\"Quantities are:\")\n",
    "for key, value in inventory.items():\n",
    "    print(value)\n",
    "for key,value in inventory.items():\n",
    "    if "
   ]
  },
  {
   "cell_type": "code",
   "execution_count": null,
   "id": "5ed3688e-5976-499b-b2d8-eaffe74ace5e",
   "metadata": {},
   "outputs": [],
   "source": []
  }
 ],
 "metadata": {
  "kernelspec": {
   "display_name": "Python [conda env:base] *",
   "language": "python",
   "name": "conda-base-py"
  },
  "language_info": {
   "codemirror_mode": {
    "name": "ipython",
    "version": 3
   },
   "file_extension": ".py",
   "mimetype": "text/x-python",
   "name": "python",
   "nbconvert_exporter": "python",
   "pygments_lexer": "ipython3",
   "version": "3.12.7"
  }
 },
 "nbformat": 4,
 "nbformat_minor": 5
}
