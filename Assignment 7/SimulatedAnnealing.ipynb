{
 "cells": [
  {
   "cell_type": "code",
   "execution_count": 24,
   "id": "526afe40-d595-4756-bc4e-ce24c0458053",
   "metadata": {},
   "outputs": [
    {
     "name": "stdin",
     "output_type": "stream",
     "text": [
      "Enter the number of cities 4\n",
      " 0 10 15 20\n",
      " 10 0 35 25\n",
      " 15 35 0 30\n",
      " 20 25 30 0\n"
     ]
    },
    {
     "name": "stdout",
     "output_type": "stream",
     "text": [
      "[0, 10, 15, 20]\n",
      "[10, 0, 35, 25]\n",
      "[15, 35, 0, 30]\n",
      "[20, 25, 30, 0]\n",
      "simulated annealing Solution:\n",
      "Route: 0 → 1 → 3 → 2 → 0\n",
      "Cost: 80\n"
     ]
    }
   ],
   "source": [
    "import math\n",
    "import random\n",
    "n=int(input(\"Enter the number of cities\"))\n",
    "cost_matrix=[]\n",
    "for i in range(n):\n",
    "    row=list(map(int,input().split()))\n",
    "    cost_matrix.append(row)\n",
    "for row in cost_matrix:\n",
    "    print(row)\n",
    "\n",
    "\n",
    "##compute cost of a given tour\n",
    "\n",
    "def compute_cost(cost_matrix,tour):\n",
    "    total_cost=0\n",
    "    for i in range(len(tour)-1):\n",
    "        total_cost+=cost_matrix[tour[i]][tour[i+1]]\n",
    "    return total_cost\n",
    "\n",
    "##generating random initial tour\n",
    "\n",
    "def generate_random_tour(n):\n",
    "    tour=list(range(1,n))\n",
    "    random.shuffle(tour)\n",
    "    tour=[0]+tour+[0]\n",
    "    return tour\n",
    "\n",
    "\n",
    "\n",
    "\n",
    "def swap_two_random(tour):\n",
    "    i,j=random.sample(range(1, len(tour)-1), 2)\n",
    "    new_tour=tour.copy()\n",
    "    new_tour[i],new_tour[j]=new_tour[j],new_tour[i]\n",
    "    return new_tour\n",
    "\n",
    "\n",
    "def simulated_annealing(n):\n",
    "     T=500\n",
    "     alpha=0.99\n",
    "\n",
    "     K=50*n*n\n",
    "     current_tour=generate_random_tour(n)\n",
    "     best_tour=current_tour\n",
    "     best_cost=compute_cost(cost_matrix,best_tour)\n",
    "\n",
    "\n",
    "     for _ in range(K):\n",
    "         new_tour= swap_two_random(current_tour)\n",
    "         new_cost=compute_cost(cost_matrix,new_tour)\n",
    "         current_cost=compute_cost(cost_matrix,current_tour)\n",
    "         delta=new_cost-current_cost\n",
    "         if delta<0:\n",
    "             current_cost=new_cost\n",
    "             current_tour=new_tour\n",
    "             if new_cost<best_cost:\n",
    "                 best_cost=new_cost\n",
    "                 best_tour=new_tour\n",
    "\n",
    "         else:\n",
    "             P = math.exp(-delta / T)\n",
    "             r=random.random()\n",
    "             if r<P :\n",
    "                 current_tour=new_tour\n",
    "                 current_cost=new_cost\n",
    "\n",
    "         T *= alpha\n",
    "\n",
    "     return best_tour,best_cost\n",
    "\n",
    "\n",
    "best_tour, best_cost = simulated_annealing(n)\n",
    "print(\"simulated annealing Solution:\")\n",
    "print(\"Route:\", \" → \".join(map(str, best_tour)))\n",
    "print(\"Cost:\", best_cost)\n",
    "\n",
    "                 "
   ]
  },
  {
   "cell_type": "code",
   "execution_count": null,
   "id": "e4a40a53-9203-45fa-943f-4ce1b35bd344",
   "metadata": {},
   "outputs": [],
   "source": []
  }
 ],
 "metadata": {
  "kernelspec": {
   "display_name": "Python [conda env:base] *",
   "language": "python",
   "name": "conda-base-py"
  },
  "language_info": {
   "codemirror_mode": {
    "name": "ipython",
    "version": 3
   },
   "file_extension": ".py",
   "mimetype": "text/x-python",
   "name": "python",
   "nbconvert_exporter": "python",
   "pygments_lexer": "ipython3",
   "version": "3.12.7"
  }
 },
 "nbformat": 4,
 "nbformat_minor": 5
}
