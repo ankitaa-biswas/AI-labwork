{
 "cells": [
  {
   "cell_type": "code",
   "execution_count": null,
   "id": "526afe40-d595-4756-bc4e-ce24c0458053",
   "metadata": {},
   "outputs": [],
   "source": [
    "\n",
    "n=int(input(\"Enter the number of cities\"))\n",
    "cost_matrix=[]\n",
    "for i in range(n):\n",
    "    row=list(map(int,input().split()))\n",
    "    cost_matrix.append(row)\n",
    "for row in cost_matrix:\n",
    "    print(row)\n",
    "\n",
    "\n",
    "##compute cost of a given tour\n",
    "\n",
    "def compute_cost(cost_matrix,tour):\n",
    "    total_cost=0\n",
    "    for i in range(len(tour)-1):\n",
    "        total_cost+=cost_matrix[tour[i]][tour[i+1]]\n",
    "    return total_cost\n",
    "\n",
    "##generating random initial tour\n",
    "import random\n",
    "def generate_random_tour(n):\n",
    "    tour=list(range(1,n))\n",
    "    random.shuffle(tour)\n",
    "    tour=[0]+tour+[0]\n",
    "    return tour\n",
    "\n",
    "\n",
    "\n",
    "\n",
    "def swap_two_random():\n",
    "    i,j=random.sample(1,len(tour)-1)\n",
    "\n",
    "def simulated_annealing(n):\n",
    "     T=1000\n",
    "     alpha=0.995\n",
    "\n",
    "     K=100*n*n\n",
    "     current_tour=generate_random_tour(n)\n",
    "     best_tour=current_tour\n",
    "     best_cost=compute_cost(cost_matrix,best_tour)\n",
    "\n",
    "\n",
    "     for k in range(1,K):\n",
    "         "
   ]
  },
  {
   "cell_type": "code",
   "execution_count": null,
   "id": "e4a40a53-9203-45fa-943f-4ce1b35bd344",
   "metadata": {},
   "outputs": [],
   "source": []
  }
 ],
 "metadata": {
  "kernelspec": {
   "display_name": "Python [conda env:base] *",
   "language": "python",
   "name": "conda-base-py"
  },
  "language_info": {
   "codemirror_mode": {
    "name": "ipython",
    "version": 3
   },
   "file_extension": ".py",
   "mimetype": "text/x-python",
   "name": "python",
   "nbconvert_exporter": "python",
   "pygments_lexer": "ipython3",
   "version": "3.12.7"
  }
 },
 "nbformat": 4,
 "nbformat_minor": 5
}
