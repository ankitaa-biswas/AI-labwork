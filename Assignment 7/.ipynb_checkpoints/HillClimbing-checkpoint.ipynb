{
 "cells": [
  {
   "cell_type": "code",
   "execution_count": 35,
   "id": "95bf72f8-efb6-44ab-88e2-60a97b26b783",
   "metadata": {},
   "outputs": [
    {
     "name": "stdin",
     "output_type": "stream",
     "text": [
      "Enter the number of cities 4\n",
      " 0 10 15 20\n",
      " 10 0 35 25\n",
      " 15 35 0 30\n",
      " 20 25 30 0\n"
     ]
    },
    {
     "name": "stdout",
     "output_type": "stream",
     "text": [
      "[0, 10, 15, 20]\n",
      "[10, 0, 35, 25]\n",
      "[15, 35, 0, 30]\n",
      "[20, 25, 30, 0]\n",
      "Hill Climbing Solution:\n",
      "Route: 0 → 1 → 3 → 2 → 0\n",
      "Cost: 80\n"
     ]
    }
   ],
   "source": [
    "n=int(input(\"Enter the number of cities\"))\n",
    "cost_matrix=[]\n",
    "for i in range(n):\n",
    "    row=list(map(int,input().split()))\n",
    "    cost_matrix.append(row)\n",
    "for row in cost_matrix:\n",
    "    print(row)\n",
    "\n",
    "\n",
    "\n",
    "##compute cost of a given tour\n",
    "\n",
    "def compute_cost(cost_matrix,tour):\n",
    "    total_cost=0\n",
    "    for i in range(len(tour)-1):\n",
    "        total_cost+=cost_matrix[tour[i]][tour[i+1]]\n",
    "    return total_cost\n",
    "\n",
    "##generating random initial tour\n",
    "import random\n",
    "def generate_random_tour(n):\n",
    "    tour=list(range(1,n))\n",
    "    random.shuffle(tour)\n",
    "    tour=[0]+tour+[0]\n",
    "    return tour\n",
    "\n",
    "\n",
    "\n",
    "\n",
    "## generate neighbours\n",
    "\n",
    "def get_neighbours(tour):\n",
    "    neighbours=[]\n",
    "    for i in range(1,len(tour)-2):\n",
    "        for j in range(i+1,len(tour)-1):\n",
    "            new_tour = tour.copy()  \n",
    "            new_tour[i],new_tour[j]=new_tour[j],new_tour[i]\n",
    "            neighbours.append(new_tour)\n",
    "    return neighbours\n",
    "\n",
    "\n",
    "def hill_climbing(n):\n",
    "    current_tour=generate_random_tour(n) \n",
    "    current_cost=compute_cost(cost_matrix,current_tour)\n",
    "    while True:\n",
    "        neighbours=get_neighbours(current_tour)\n",
    "        best_neighbour=None\n",
    "        best_cost=current_cost\n",
    "\n",
    "        for neighbour in neighbours:\n",
    "            neighbour_cost=compute_cost(cost_matrix,neighbour)\n",
    "            if neighbour_cost<best_cost:\n",
    "                best_cost=neighbour_cost\n",
    "                best_neighbour=neighbour\n",
    "                print(best_cost,best_neighbour)\n",
    "        if best_neighbour is None:\n",
    "           break\n",
    "        current_tour=best_neighbour\n",
    "        current_cost=best_cost\n",
    "    return current_tour,current_cost\n",
    "\n",
    "best_tour, best_cost = hill_climbing(n)\n",
    "print(\"Hill Climbing Solution:\")\n",
    "print(\"Route:\", \" → \".join(map(str, best_tour)))\n",
    "print(\"Cost:\", best_cost)\n",
    "\n",
    "\n",
    "\n",
    "\n"
   ]
  },
  {
   "cell_type": "code",
   "execution_count": null,
   "id": "db5464a5-f698-43ea-b44c-5d9efbe4d478",
   "metadata": {},
   "outputs": [],
   "source": [
    "\n",
    "\n",
    "\n",
    "\n"
   ]
  },
  {
   "cell_type": "code",
   "execution_count": null,
   "id": "1208704f-fe1f-4933-a17f-b081e6d55fec",
   "metadata": {},
   "outputs": [],
   "source": []
  },
  {
   "cell_type": "code",
   "execution_count": null,
   "id": "4c13bd0c-df7c-46d9-ac2a-8a3dd6dd3366",
   "metadata": {},
   "outputs": [],
   "source": [
    "\n"
   ]
  },
  {
   "cell_type": "code",
   "execution_count": null,
   "id": "4a87978a-7e06-45e7-93c4-e285198f3af3",
   "metadata": {},
   "outputs": [],
   "source": []
  },
  {
   "cell_type": "code",
   "execution_count": null,
   "id": "48e6dfb4-9a11-446c-aef6-83983aadab20",
   "metadata": {},
   "outputs": [],
   "source": []
  }
 ],
 "metadata": {
  "kernelspec": {
   "display_name": "Python [conda env:base] *",
   "language": "python",
   "name": "conda-base-py"
  },
  "language_info": {
   "codemirror_mode": {
    "name": "ipython",
    "version": 3
   },
   "file_extension": ".py",
   "mimetype": "text/x-python",
   "name": "python",
   "nbconvert_exporter": "python",
   "pygments_lexer": "ipython3",
   "version": "3.12.7"
  }
 },
 "nbformat": 4,
 "nbformat_minor": 5
}
