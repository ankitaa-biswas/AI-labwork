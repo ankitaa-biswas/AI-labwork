{
 "cells": [
  {
   "cell_type": "code",
   "execution_count": 1,
   "id": "07f81243-32e2-494c-8cd9-beea1fa3928f",
   "metadata": {},
   "outputs": [
    {
     "name": "stdout",
     "output_type": "stream",
     "text": [
      "Steps to reach (4, y):\n",
      "(0, 0)\n",
      " Fill the 5-liter jug completely\n",
      "(5, 0)\n",
      "Pour water from the 5-liter jug into the 3-liter jug\n",
      "(2, 3)\n",
      "Empty the 3-liter jug\n",
      "(2, 0)\n",
      "Pour water from the 5-liter jug into the 3-liter jug\n",
      "(0, 2)\n",
      " Fill the 5-liter jug completely\n",
      "(5, 2)\n",
      "Pour water from the 5-liter jug into the 3-liter jug\n",
      "(4, 3)\n"
     ]
    }
   ],
   "source": [
    "from collections import deque\n",
    "\n",
    "def water_jug_bfs():\n",
    "    \n",
    "    max_5, max_3 = 5, 3\n",
    "   \n",
    "    start = (0, 0)\n",
    "  \n",
    "    goal = 4\n",
    "    \n",
    "    queue = deque([(start, [])])  \n",
    "\n",
    "    \n",
    "    visited = set()\n",
    "    \n",
    "    while queue:\n",
    "        (x, y), path = queue.popleft()\n",
    "        \n",
    "        if x == goal:\n",
    "            return path + [(x, y)] \n",
    "        if (x, y) in visited:\n",
    "            continue\n",
    "        visited.add((x, y))\n",
    "        \n",
    "       \n",
    "        actions = [\n",
    "            (max_5, y, \" Fill the 5-liter jug completely\"),  \n",
    "            (x, max_3, \"Fill the 3-liter jug completely.\"),  \n",
    "            (0, y, \"Empty the 5-liter jug\"),  \n",
    "            (x, 0, \"Empty the 3-liter jug\"),  \n",
    "            (x - min(x, max_3 - y), y + min(x, max_3 - y), \"Pour water from the 5-liter jug into the 3-liter jug\"), \n",
    "            (x + min(y, max_5 - x), y - min(y, max_5 - x), \"Pour water from the 3-liter jug into the 5-liter jug\")   \n",
    "        ]\n",
    "        \n",
    "        for new_x, new_y, action in actions:\n",
    "            if (new_x, new_y) not in visited:\n",
    "                queue.append(((new_x, new_y), path + [(x, y),action]))\n",
    "    \n",
    "    return None \n",
    "\n",
    "\n",
    "solution = water_jug_bfs()\n",
    "if solution:\n",
    "    print(\"Steps to reach (4, y):\")\n",
    "    for step in solution:\n",
    "        print(step)\n",
    "else:\n",
    "    print(\"No solution found\")\n",
    "\n",
    "\n",
    "\n"
   ]
  },
  {
   "cell_type": "code",
   "execution_count": null,
   "id": "fe1049e5-6640-4f77-8d92-5d0b542cb6cc",
   "metadata": {},
   "outputs": [],
   "source": []
  },
  {
   "cell_type": "code",
   "execution_count": null,
   "id": "24315f8b-b29a-4b84-8e76-c5ed158a8c40",
   "metadata": {},
   "outputs": [],
   "source": []
  }
 ],
 "metadata": {
  "kernelspec": {
   "display_name": "Python [conda env:base] *",
   "language": "python",
   "name": "conda-base-py"
  },
  "language_info": {
   "codemirror_mode": {
    "name": "ipython",
    "version": 3
   },
   "file_extension": ".py",
   "mimetype": "text/x-python",
   "name": "python",
   "nbconvert_exporter": "python",
   "pygments_lexer": "ipython3",
   "version": "3.12.7"
  }
 },
 "nbformat": 4,
 "nbformat_minor": 5
}
