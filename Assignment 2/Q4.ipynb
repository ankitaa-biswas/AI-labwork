{
 "cells": [
  {
   "cell_type": "code",
   "execution_count": 20,
   "id": "edb55bcb-0979-442e-95b8-df3d9f4d8c73",
   "metadata": {},
   "outputs": [],
   "source": [
    " def count_lines_not_starting_with_T():\n",
    "    with open(\"text.txt\",\"r\") as file:\n",
    "     counter=0\n",
    "     content=file.readlines();\n",
    "     for line in content:\n",
    "        if line and line[0] != \"T\":\n",
    "           counter+=1\n",
    "\n",
    "    return counter\n",
    "\n"
   ]
  },
  {
   "cell_type": "code",
   "execution_count": null,
   "id": "c7e5a45c-5215-4d3d-a3c9-456dd1fede17",
   "metadata": {},
   "outputs": [],
   "source": []
  },
  {
   "cell_type": "code",
   "execution_count": null,
   "id": "00734735-7886-4ba7-8102-155f405f6683",
   "metadata": {},
   "outputs": [],
   "source": []
  }
 ],
 "metadata": {
  "kernelspec": {
   "display_name": "Python [conda env:base] *",
   "language": "python",
   "name": "conda-base-py"
  },
  "language_info": {
   "codemirror_mode": {
    "name": "ipython",
    "version": 3
   },
   "file_extension": ".py",
   "mimetype": "text/x-python",
   "name": "python",
   "nbconvert_exporter": "python",
   "pygments_lexer": "ipython3",
   "version": "3.12.7"
  }
 },
 "nbformat": 4,
 "nbformat_minor": 5
}
