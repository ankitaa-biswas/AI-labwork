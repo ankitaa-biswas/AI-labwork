{
 "cells": [
  {
   "cell_type": "code",
   "execution_count": 7,
   "id": "cc9be0b7-a64c-4a16-ba39-5c127a9989b1",
   "metadata": {},
   "outputs": [
    {
     "name": "stdin",
     "output_type": "stream",
     "text": [
      "enter the number of elements for the row 2\n",
      "enter the number of elements for the column 3\n",
      "Enter row 1 elements separated by spaces:  1 2 3\n",
      "Enter row 2 elements separated by spaces:  2 3 4\n"
     ]
    },
    {
     "name": "stdout",
     "output_type": "stream",
     "text": [
      "[[1 2 3]\n",
      " [2 3 4]]\n",
      "transpose of the matrix\n",
      "[[1 2]\n",
      " [2 3]\n",
      " [3 4]]\n",
      "flattened matrix\n",
      "[1 2 3 2 3 4]\n"
     ]
    }
   ],
   "source": [
    "import numpy as np\n",
    "row =int(input(\"enter the number of elements for the row\"))\n",
    "column = int(input(\"enter the number of elements for the column\"))\n",
    "data=[]\n",
    "for i in range(row):\n",
    "    row = list(map(int, input(f\"Enter row {i + 1} elements separated by spaces: \").split()))\n",
    "    data.append(row)\n",
    "arr=np.array(data)\n",
    "arr_transpose=arr.transpose()\n",
    "arr_flatten=arr.flatten()\n",
    "print(arr)\n",
    "print(\"transpose of the matrix\")\n",
    "print(arr_transpose)\n",
    "print(\"flattened matrix\")\n",
    "print(arr_flatten)\n",
    "\n"
   ]
  },
  {
   "cell_type": "code",
   "execution_count": null,
   "id": "f609b540-9d81-40ed-bac9-3a02e88d377a",
   "metadata": {},
   "outputs": [],
   "source": []
  }
 ],
 "metadata": {
  "kernelspec": {
   "display_name": "Python [conda env:base] *",
   "language": "python",
   "name": "conda-base-py"
  },
  "language_info": {
   "codemirror_mode": {
    "name": "ipython",
    "version": 3
   },
   "file_extension": ".py",
   "mimetype": "text/x-python",
   "name": "python",
   "nbconvert_exporter": "python",
   "pygments_lexer": "ipython3",
   "version": "3.12.7"
  }
 },
 "nbformat": 4,
 "nbformat_minor": 5
}
