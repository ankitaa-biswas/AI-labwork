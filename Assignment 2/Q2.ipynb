{
 "cells": [
  {
   "cell_type": "code",
   "execution_count": 10,
   "id": "cc9be0b7-a64c-4a16-ba39-5c127a9989b1",
   "metadata": {},
   "outputs": [
    {
     "name": "stdin",
     "output_type": "stream",
     "text": [
      "enter how many characters you wanna read 4\n"
     ]
    },
    {
     "name": "stdout",
     "output_type": "stream",
     "text": [
      "it i\n",
      "it is just a sample text \n",
      " today is wednesday\n"
     ]
    }
   ],
   "source": [
    "file=open(\"example.txt\",\"r\")\n",
    "val=(int)(input(\"enter how many characters you wanna read\"))\n",
    "print(file.read(val))\n",
    "file=open(\"example.txt\",\"a\")\n",
    "\n",
    "file.write(\" \\ntoday is wednesday\")\n",
    "file=open(\"example.txt\",\"r\")\n",
    "print(file.read())"
   ]
  },
  {
   "cell_type": "code",
   "execution_count": null,
   "id": "f609b540-9d81-40ed-bac9-3a02e88d377a",
   "metadata": {},
   "outputs": [],
   "source": []
  }
 ],
 "metadata": {
  "kernelspec": {
   "display_name": "Python [conda env:base] *",
   "language": "python",
   "name": "conda-base-py"
  },
  "language_info": {
   "codemirror_mode": {
    "name": "ipython",
    "version": 3
   },
   "file_extension": ".py",
   "mimetype": "text/x-python",
   "name": "python",
   "nbconvert_exporter": "python",
   "pygments_lexer": "ipython3",
   "version": "3.12.7"
  }
 },
 "nbformat": 4,
 "nbformat_minor": 5
}
