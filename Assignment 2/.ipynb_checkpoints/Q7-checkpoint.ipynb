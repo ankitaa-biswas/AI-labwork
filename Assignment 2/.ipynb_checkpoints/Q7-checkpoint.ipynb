{
 "cells": [
  {
   "cell_type": "code",
   "execution_count": 18,
   "id": "cc9be0b7-a64c-4a16-ba39-5c127a9989b1",
   "metadata": {},
   "outputs": [
    {
     "name": "stdout",
     "output_type": "stream",
     "text": [
      "dimension of the array:  2\n",
      "shape of the array :  (2, 4)\n",
      "size of the array:  8\n"
     ]
    }
   ],
   "source": [
    "import numpy as np\n",
    "arr=np.array([[10,16,71,9],[71,91,31,51]])\n",
    "print(\"dimension of the array: \",arr.ndim )\n",
    "print(\"shape of the array : \", arr.shape)\n",
    "print(\"size of the array: \",arr.size)\n"
   ]
  },
  {
   "cell_type": "code",
   "execution_count": null,
   "id": "f609b540-9d81-40ed-bac9-3a02e88d377a",
   "metadata": {},
   "outputs": [],
   "source": []
  }
 ],
 "metadata": {
  "kernelspec": {
   "display_name": "Python [conda env:base] *",
   "language": "python",
   "name": "conda-base-py"
  },
  "language_info": {
   "codemirror_mode": {
    "name": "ipython",
    "version": 3
   },
   "file_extension": ".py",
   "mimetype": "text/x-python",
   "name": "python",
   "nbconvert_exporter": "python",
   "pygments_lexer": "ipython3",
   "version": "3.12.7"
  }
 },
 "nbformat": 4,
 "nbformat_minor": 5
}
