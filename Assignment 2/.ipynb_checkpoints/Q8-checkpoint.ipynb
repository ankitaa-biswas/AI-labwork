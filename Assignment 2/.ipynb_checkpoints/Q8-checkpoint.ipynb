{
 "cells": [
  {
   "cell_type": "code",
   "execution_count": 40,
   "id": "cc9be0b7-a64c-4a16-ba39-5c127a9989b1",
   "metadata": {},
   "outputs": [
    {
     "name": "stdin",
     "output_type": "stream",
     "text": [
      "Enter elements separated by space:  2 4 5\n",
      "Enter elements separated by space:  8 7 1\n"
     ]
    },
    {
     "name": "stdout",
     "output_type": "stream",
     "text": [
      "[2 4 5 8 7 1]\n",
      "sorting array 1 [2 4 5]\n",
      "sorting array 2 [1 7 8]\n",
      "after adding two arrays [10 11  6]\n",
      "after substracting the second array from first array [-6 -3  4]\n",
      "after multiplying two arrays [16 28  5]\n",
      "dividing arrays [0.25       0.57142857 5.        ]\n"
     ]
    }
   ],
   "source": [
    "import numpy as np\n",
    "val1 = input(\"Enter elements separated by space: \").split()\n",
    "arr1 = np.array(val1, dtype=int)\n",
    "val2 = input(\"Enter elements separated by space: \").split()\n",
    "arr2 = np.array(val2, dtype=int)\n",
    "\n",
    "\n",
    "arr=np.concatenate((arr1,arr2))\n",
    "print(arr)\n",
    "print(\"sorting array 1\",np.sort(arr1))\n",
    "print(\"sorting array 2\",np.sort(arr2))\n",
    "print(\"after adding two arrays\",np.add(arr1,arr2))\n",
    "print(\"after substracting the second array from first array\",np.subtract(arr1,arr2))\n",
    "print(\"after multiplying two arrays\",np.multiply(arr1,arr2))\n",
    "#print(\"dividing arrays\",np.divide(arr1,arr2))\n",
    "with np.errstate(divide='ignore', invalid='ignore'):\n",
    "    division_result = np.divide(arr1, arr2)\n",
    "    division_result[np.isinf(division_result) | np.isnan(division_result)] = None  \n",
    "print(\"After dividing arrays:\", division_result)"
   ]
  },
  {
   "cell_type": "code",
   "execution_count": null,
   "id": "f609b540-9d81-40ed-bac9-3a02e88d377a",
   "metadata": {},
   "outputs": [],
   "source": []
  }
 ],
 "metadata": {
  "kernelspec": {
   "display_name": "Python [conda env:base] *",
   "language": "python",
   "name": "conda-base-py"
  },
  "language_info": {
   "codemirror_mode": {
    "name": "ipython",
    "version": 3
   },
   "file_extension": ".py",
   "mimetype": "text/x-python",
   "name": "python",
   "nbconvert_exporter": "python",
   "pygments_lexer": "ipython3",
   "version": "3.12.7"
  }
 },
 "nbformat": 4,
 "nbformat_minor": 5
}
