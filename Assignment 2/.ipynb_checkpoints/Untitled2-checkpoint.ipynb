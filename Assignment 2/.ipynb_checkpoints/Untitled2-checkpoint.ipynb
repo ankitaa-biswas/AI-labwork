{
 "cells": [
  {
   "cell_type": "code",
   "execution_count": 29,
   "id": "edb55bcb-0979-442e-95b8-df3d9f4d8c73",
   "metadata": {},
   "outputs": [
    {
     "name": "stdout",
     "output_type": "stream",
     "text": [
      "A girl is playing there badminton.\n",
      "The scenery is beautiful.\n",
      "The birds are flying in the sky.\n",
      "The sky is cloudy.\n",
      "Alphabets consists of vowels and consonants.\n"
     ]
    }
   ],
   "source": [
    "\n",
    " with open(\"text.txt\",\"r\") as input:\n",
    "    with open(\"newfile.txt\",\"w\") as output:\n",
    "        for line in input:\n",
    "            output.write(line)\n",
    "\n",
    "output=open(\"newfile.txt\",\"r\")\n",
    "print(output.read())\n"
   ]
  },
  {
   "cell_type": "code",
   "execution_count": null,
   "id": "c7e5a45c-5215-4d3d-a3c9-456dd1fede17",
   "metadata": {},
   "outputs": [],
   "source": []
  },
  {
   "cell_type": "code",
   "execution_count": null,
   "id": "00734735-7886-4ba7-8102-155f405f6683",
   "metadata": {},
   "outputs": [],
   "source": []
  }
 ],
 "metadata": {
  "kernelspec": {
   "display_name": "Python [conda env:base] *",
   "language": "python",
   "name": "conda-base-py"
  },
  "language_info": {
   "codemirror_mode": {
    "name": "ipython",
    "version": 3
   },
   "file_extension": ".py",
   "mimetype": "text/x-python",
   "name": "python",
   "nbconvert_exporter": "python",
   "pygments_lexer": "ipython3",
   "version": "3.12.7"
  }
 },
 "nbformat": 4,
 "nbformat_minor": 5
}
