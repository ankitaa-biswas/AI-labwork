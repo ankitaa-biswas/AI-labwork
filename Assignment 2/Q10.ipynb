{
 "cells": [
  {
   "cell_type": "code",
   "execution_count": 24,
   "id": "8f211e78-004d-4afc-b2c2-b51989a8610d",
   "metadata": {},
   "outputs": [
    {
     "name": "stdout",
     "output_type": "stream",
     "text": [
      "[[18  3  3  2  5]\n",
      " [ 4  4  7  4 18]\n",
      " [12 11 18 19  0]\n",
      " [16  6 16 10 15]]\n",
      "[0. 0. 0. 0. 0. 0. 0. 0. 0. 0.]\n",
      "[1. 1. 1. 1. 1. 1. 1. 1. 1. 1.]\n",
      "[5 5 5 5 5 5 5 5 5 5]\n",
      "[10 12 14 16 18 20 22 24 26 28 30 32 34 36 38 40 42 44 46 48 50]\n",
      "0.29530895013530545\n"
     ]
    }
   ],
   "source": [
    "import numpy as np\n",
    "from numpy import random\n",
    "arr=random.randint(20,size=(4,5))\n",
    "print(arr)\n",
    "arr_zeroes=np.zeros(10)\n",
    "print(arr_zeroes)\n",
    "arr_ones = np.ones(10)\n",
    "print(arr_ones)\n",
    "arr_five=np.full(10,5)\n",
    "print(arr_five)\n",
    "array_even = np.arange(10, 51, 2)\n",
    "print(array_even)\n",
    "random_number = np.random.rand()\n",
    "print(random_number)\n",
    "\n",
    "np.savetxt(\"matrix.txt\",arr,fmt='%d', delimiter=',')"
   ]
  },
  {
   "cell_type": "code",
   "execution_count": null,
   "id": "49991a55-c147-4a57-b066-d17c76af3047",
   "metadata": {},
   "outputs": [],
   "source": []
  }
 ],
 "metadata": {
  "kernelspec": {
   "display_name": "Python [conda env:base] *",
   "language": "python",
   "name": "conda-base-py"
  },
  "language_info": {
   "codemirror_mode": {
    "name": "ipython",
    "version": 3
   },
   "file_extension": ".py",
   "mimetype": "text/x-python",
   "name": "python",
   "nbconvert_exporter": "python",
   "pygments_lexer": "ipython3",
   "version": "3.12.7"
  }
 },
 "nbformat": 4,
 "nbformat_minor": 5
}
