{
 "cells": [
  {
   "cell_type": "code",
   "execution_count": 4,
   "id": "b3e4c7fa-0f91-4f9a-90b0-0dbd6ec46d41",
   "metadata": {},
   "outputs": [
    {
     "name": "stdout",
     "output_type": "stream",
     "text": [
      "second column:\n",
      "[5 9 6 8]\n",
      "last row: \n",
      "[4 8 9]\n"
     ]
    }
   ],
   "source": [
    "import numpy as np\n",
    "\n",
    "arr=np.array([\n",
    "    [2,5,6],\n",
    "    [5,9,0],\n",
    "    [2,6,4],\n",
    "    [4,8,9]\n",
    "])\n",
    "second_colum=arr[:,1]\n",
    "last_row=arr[3,:]\n",
    "\n",
    "print(\"second column:\")\n",
    "print(second_colum)\n",
    "print(\"last row: \")\n",
    "print(last_row)\n"
   ]
  },
  {
   "cell_type": "code",
   "execution_count": null,
   "id": "792bdb6f-f382-4f95-bdd4-69c1f79bacd3",
   "metadata": {},
   "outputs": [],
   "source": []
  }
 ],
 "metadata": {
  "kernelspec": {
   "display_name": "Python [conda env:base] *",
   "language": "python",
   "name": "conda-base-py"
  },
  "language_info": {
   "codemirror_mode": {
    "name": "ipython",
    "version": 3
   },
   "file_extension": ".py",
   "mimetype": "text/x-python",
   "name": "python",
   "nbconvert_exporter": "python",
   "pygments_lexer": "ipython3",
   "version": "3.12.7"
  }
 },
 "nbformat": 4,
 "nbformat_minor": 5
}
