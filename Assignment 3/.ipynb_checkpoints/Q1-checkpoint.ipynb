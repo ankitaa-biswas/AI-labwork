{
 "cells": [
  {
   "cell_type": "code",
   "execution_count": 26,
   "id": "859bc85e-b5a3-4f88-bf28-c89643e736f2",
   "metadata": {},
   "outputs": [
    {
     "name": "stdout",
     "output_type": "stream",
     "text": [
      "Mean CPI: 73.5\n",
      "\n",
      "Filtered DataFrame (CPI >= 60):\n",
      "    Std_name  Roll_no  CPI\n",
      "0  student 1       34   83\n",
      "3  student 4       98   98\n"
     ]
    }
   ],
   "source": [
    "# import pandas as pd\n",
    "# data={\n",
    "#     'Std_name':['student 1','student 2','student 3','studnet 4'],\n",
    "#     'Roll_no':['34','33','67','98'],\n",
    "#     'CPI':['83','59','54','98'],\n",
    "# }\n",
    "# df=pd.DataFrame(data)\n",
    "\n",
    "# cpi_mean = df['CPI'].mean()\n",
    "# print(\"Mean CPI:\", cpi_mean)\n",
    "\n",
    "# temp_df=df[df['CPI']>='60']\n",
    "# print(temp_df)\n",
    "import pandas as pd\n",
    "\n",
    "\n",
    "data = {\n",
    "    'Std_name': ['student 1', 'student 2', 'student 3', 'student 4'], \n",
    "    'Roll_no': [34, 33, 67, 98],  \n",
    "    'CPI': [83, 59, 54, 98],  \n",
    "}\n",
    "\n",
    "df = pd.DataFrame(data)\n",
    "\n",
    "\n",
    "cpi_mean = df['CPI'].mean()\n",
    "print(\"Mean CPI:\", cpi_mean)\n",
    "\n",
    "\n",
    "temp_df = df[df['CPI'] >= 60]\n",
    "print(\"\\nFiltered DataFrame (CPI >= 60):\")\n",
    "print(temp_df)\n",
    "\n"
   ]
  },
  {
   "cell_type": "code",
   "execution_count": null,
   "id": "9ab1a879-6721-4134-96e5-30bbf31b93d6",
   "metadata": {},
   "outputs": [],
   "source": []
  }
 ],
 "metadata": {
  "kernelspec": {
   "display_name": "Python [conda env:base] *",
   "language": "python",
   "name": "conda-base-py"
  },
  "language_info": {
   "codemirror_mode": {
    "name": "ipython",
    "version": 3
   },
   "file_extension": ".py",
   "mimetype": "text/x-python",
   "name": "python",
   "nbconvert_exporter": "python",
   "pygments_lexer": "ipython3",
   "version": "3.12.7"
  }
 },
 "nbformat": 4,
 "nbformat_minor": 5
}
