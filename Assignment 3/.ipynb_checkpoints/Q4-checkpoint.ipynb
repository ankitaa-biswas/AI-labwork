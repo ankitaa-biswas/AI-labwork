{
 "cells": [
  {
   "cell_type": "code",
   "execution_count": 52,
   "id": "859bc85e-b5a3-4f88-bf28-c89643e736f2",
   "metadata": {},
   "outputs": [
    {
     "name": "stdout",
     "output_type": "stream",
     "text": [
      "      Name  Age    Salary\n",
      "0  person1   35  56345.78\n",
      "1  person2   45  72345.55\n",
      "5  person6   40  93823.92\n"
     ]
    }
   ],
   "source": [
    "import pandas as pd\n",
    "Data={\n",
    "    'Name':['person1','person2','person3','person4','person5','person6'],\n",
    "    'Age':[35,45,16,39,17,40],\n",
    "    'Salary':[56345.78,72345.55,-21489.09,-89000.37,-7823.5,93823.92]\n",
    "}\n",
    "dirty_data=pd.DataFrame(Data)\n",
    "temp_df=dirty_data[(dirty_data['Age']>18) & (dirty_data['Salary']>=0)]\n",
    "print(temp_df)\n"
   ]
  },
  {
   "cell_type": "code",
   "execution_count": null,
   "id": "9ab1a879-6721-4134-96e5-30bbf31b93d6",
   "metadata": {},
   "outputs": [],
   "source": []
  }
 ],
 "metadata": {
  "kernelspec": {
   "display_name": "Python [conda env:base] *",
   "language": "python",
   "name": "conda-base-py"
  },
  "language_info": {
   "codemirror_mode": {
    "name": "ipython",
    "version": 3
   },
   "file_extension": ".py",
   "mimetype": "text/x-python",
   "name": "python",
   "nbconvert_exporter": "python",
   "pygments_lexer": "ipython3",
   "version": "3.12.7"
  }
 },
 "nbformat": 4,
 "nbformat_minor": 5
}
