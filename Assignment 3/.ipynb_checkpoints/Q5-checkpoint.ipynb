{
 "cells": [
  {
   "cell_type": "code",
   "execution_count": 56,
   "id": "859bc85e-b5a3-4f88-bf28-c89643e736f2",
   "metadata": {},
   "outputs": [
    {
     "name": "stdout",
     "output_type": "stream",
     "text": [
      "            TimeStamp  Hour\n",
      "0 2023-01-23 08:59:00     8\n",
      "1 2024-12-13 19:34:00    19\n",
      "2 2018-12-16 07:04:00     7\n"
     ]
    }
   ],
   "source": [
    "import pandas as pd\n",
    "Data={\n",
    "'TimeStamp':pd.to_datetime([\n",
    "    '23-01-2023 08:59:00',\n",
    "    '13-12-2024 19:34:00',\n",
    "    '16-12-2018 07:04:00'\n",
    "],dayfirst=True)    \n",
    "}\n",
    "\n",
    "\n",
    "time_df=pd.DataFrame(Data)\n",
    "time_df['Hour']=time_df['TimeStamp'].dt.hour\n",
    "print(time_df)\n"
   ]
  },
  {
   "cell_type": "code",
   "execution_count": null,
   "id": "9ab1a879-6721-4134-96e5-30bbf31b93d6",
   "metadata": {},
   "outputs": [],
   "source": []
  }
 ],
 "metadata": {
  "kernelspec": {
   "display_name": "Python [conda env:base] *",
   "language": "python",
   "name": "conda-base-py"
  },
  "language_info": {
   "codemirror_mode": {
    "name": "ipython",
    "version": 3
   },
   "file_extension": ".py",
   "mimetype": "text/x-python",
   "name": "python",
   "nbconvert_exporter": "python",
   "pygments_lexer": "ipython3",
   "version": "3.12.7"
  }
 },
 "nbformat": 4,
 "nbformat_minor": 5
}
