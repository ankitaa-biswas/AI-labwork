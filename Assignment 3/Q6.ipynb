{
 "cells": [
  {
   "cell_type": "code",
   "execution_count": 92,
   "id": "859bc85e-b5a3-4f88-bf28-c89643e736f2",
   "metadata": {},
   "outputs": [
    {
     "name": "stdout",
     "output_type": "stream",
     "text": [
      "Execution time for nested loops: 0.026888132095336914 seconds\n",
      "Execution time for NumPy's vectorized operations: 0.001300811767578125 seconds\n",
      "Speedup (t1/t2): 20.67027126099707\n"
     ]
    }
   ],
   "source": [
    "\n",
    "import numpy as np\n",
    "import time\n",
    "P = np.random.random((106, 104))\n",
    "Q = np.random.random((106, 104))\n",
    "\n",
    "start_time = time.time()\n",
    "result_nested = np.zeros((P.shape[0], Q.shape[0]))\n",
    "\n",
    "for i in range(P.shape[0]):  \n",
    "    for j in range(Q.shape[0]):  \n",
    "        result_nested[i, j] = np.dot(P[i, :], Q[j, :])\n",
    "t1 = time.time() - start_time\n",
    "print(f\"Execution time for nested loops: {t1} seconds\")\n",
    "start_time = time.time()\n",
    "result_numpy = np.dot(P, Q.T)\n",
    "\n",
    "t2 = time.time() - start_time\n",
    "print(f\"Execution time for NumPy's vectorized operations: {t2} seconds\")\n",
    "speedup = t1 / t2\n",
    "print(f\"Speedup (t1/t2): {speedup}\")\n",
    "\n"
   ]
  },
  {
   "cell_type": "code",
   "execution_count": null,
   "id": "9ab1a879-6721-4134-96e5-30bbf31b93d6",
   "metadata": {},
   "outputs": [],
   "source": []
  },
  {
   "cell_type": "code",
   "execution_count": null,
   "id": "d017c56b-8db2-48b9-9f5e-4cb80a574974",
   "metadata": {},
   "outputs": [],
   "source": []
  }
 ],
 "metadata": {
  "kernelspec": {
   "display_name": "Python [conda env:base] *",
   "language": "python",
   "name": "conda-base-py"
  },
  "language_info": {
   "codemirror_mode": {
    "name": "ipython",
    "version": 3
   },
   "file_extension": ".py",
   "mimetype": "text/x-python",
   "name": "python",
   "nbconvert_exporter": "python",
   "pygments_lexer": "ipython3",
   "version": "3.12.7"
  }
 },
 "nbformat": 4,
 "nbformat_minor": 5
}
