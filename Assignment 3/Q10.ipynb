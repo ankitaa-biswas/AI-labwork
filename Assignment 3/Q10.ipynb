{
 "cells": [
  {
   "cell_type": "code",
   "execution_count": 11,
   "id": "b3e4c7fa-0f91-4f9a-90b0-0dbd6ec46d41",
   "metadata": {},
   "outputs": [
    {
     "name": "stdout",
     "output_type": "stream",
     "text": [
      "frequency of 85 is:\n",
      "7\n"
     ]
    }
   ],
   "source": [
    "import numpy as np\n",
    "scores=np.array([85, 92, 75, 85, 90, 92, 85, 75, 85, 92, 75, 85, 90, 92, 85, 75, 85, 92])\n",
    "freq_85=np.count_nonzero(scores==85)\n",
    "print(\"frequency of 85 is:\")\n",
    "print(freq_85)"
   ]
  },
  {
   "cell_type": "code",
   "execution_count": null,
   "id": "792bdb6f-f382-4f95-bdd4-69c1f79bacd3",
   "metadata": {},
   "outputs": [],
   "source": []
  }
 ],
 "metadata": {
  "kernelspec": {
   "display_name": "Python [conda env:base] *",
   "language": "python",
   "name": "conda-base-py"
  },
  "language_info": {
   "codemirror_mode": {
    "name": "ipython",
    "version": 3
   },
   "file_extension": ".py",
   "mimetype": "text/x-python",
   "name": "python",
   "nbconvert_exporter": "python",
   "pygments_lexer": "ipython3",
   "version": "3.12.7"
  }
 },
 "nbformat": 4,
 "nbformat_minor": 5
}
