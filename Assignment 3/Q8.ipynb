{
 "cells": [
  {
   "cell_type": "code",
   "execution_count": 6,
   "id": "b3e4c7fa-0f91-4f9a-90b0-0dbd6ec46d41",
   "metadata": {},
   "outputs": [
    {
     "name": "stdout",
     "output_type": "stream",
     "text": [
      "2D Array:\n",
      "[[6 2 3 6 6 9]\n",
      " [8 5 3 4 3 8]\n",
      " [8 4 7 3 8 7]\n",
      " [7 4 9 1 9 1]\n",
      " [5 8 0 6 3 1]]\n",
      "\n",
      "Frequency of each unique number:\n",
      "{0: 1, 1: 3, 2: 1, 3: 5, 4: 3, 5: 2, 6: 4, 7: 3, 8: 5, 9: 3}\n"
     ]
    }
   ],
   "source": [
    "import numpy as np\n",
    "\n",
    "arr=np.random.randint(0,10, size=(5,6))\n",
    "unique_values, counts = np.unique(arr, return_counts=True)\n",
    "frequency = dict(zip(unique_values, counts))\n",
    "print(\"2D Array:\")\n",
    "print(arr)\n",
    "print(\"\\nFrequency of each unique number:\")\n",
    "print(frequency)"
   ]
  },
  {
   "cell_type": "code",
   "execution_count": null,
   "id": "792bdb6f-f382-4f95-bdd4-69c1f79bacd3",
   "metadata": {},
   "outputs": [],
   "source": []
  }
 ],
 "metadata": {
  "kernelspec": {
   "display_name": "Python [conda env:base] *",
   "language": "python",
   "name": "conda-base-py"
  },
  "language_info": {
   "codemirror_mode": {
    "name": "ipython",
    "version": 3
   },
   "file_extension": ".py",
   "mimetype": "text/x-python",
   "name": "python",
   "nbconvert_exporter": "python",
   "pygments_lexer": "ipython3",
   "version": "3.12.7"
  }
 },
 "nbformat": 4,
 "nbformat_minor": 5
}
