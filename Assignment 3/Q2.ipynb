{
 "cells": [
  {
   "cell_type": "code",
   "execution_count": 37,
   "id": "859bc85e-b5a3-4f88-bf28-c89643e736f2",
   "metadata": {},
   "outputs": [
    {
     "name": "stdout",
     "output_type": "stream",
     "text": [
      "Subjects\n",
      "sub1    26\n",
      "sub2    41\n",
      "sub3    10\n",
      "sub4    39\n",
      "Name: No_of_Books, dtype: int64\n"
     ]
    }
   ],
   "source": [
    "import pandas as pd\n",
    "Data={\n",
    "    'Subjects':['sub1','sub2','sub3','sub4','sub1','sub4','sub2'],\n",
    "    'Book_Authors':['author1','author2','author3','author4','author5','author6','author7'],\n",
    "    'No_of_Books':[8,29,10,16,18,23,12]\n",
    "}\n",
    "IIITG_Library=pd.DataFrame(Data)\n",
    "total_books_by_sub=IIITG_Library.groupby('Subjects')['No_of_Books'].sum()\n",
    "print(total_books_by_sub)"
   ]
  },
  {
   "cell_type": "code",
   "execution_count": null,
   "id": "9ab1a879-6721-4134-96e5-30bbf31b93d6",
   "metadata": {},
   "outputs": [],
   "source": []
  }
 ],
 "metadata": {
  "kernelspec": {
   "display_name": "Python [conda env:base] *",
   "language": "python",
   "name": "conda-base-py"
  },
  "language_info": {
   "codemirror_mode": {
    "name": "ipython",
    "version": 3
   },
   "file_extension": ".py",
   "mimetype": "text/x-python",
   "name": "python",
   "nbconvert_exporter": "python",
   "pygments_lexer": "ipython3",
   "version": "3.12.7"
  }
 },
 "nbformat": 4,
 "nbformat_minor": 5
}
