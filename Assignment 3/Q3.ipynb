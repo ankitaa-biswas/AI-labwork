{
 "cells": [
  {
   "cell_type": "code",
   "execution_count": 63,
   "id": "859bc85e-b5a3-4f88-bf28-c89643e736f2",
   "metadata": {},
   "outputs": [
    {
     "name": "stdout",
     "output_type": "stream",
     "text": [
      "Image pixel data saved to 'image_data.csv'.\n",
      "Processed DataFrame:\n",
      "          0    1\n",
      "0       115  175\n",
      "1       115  175\n",
      "2       115  175\n",
      "3       115  175\n",
      "4       115  175\n",
      "...     ...  ...\n",
      "349422   32   15\n",
      "349423   32   15\n",
      "349424   32   15\n",
      "349425   32   15\n",
      "349426   32   15\n",
      "\n",
      "[349427 rows x 2 columns]\n"
     ]
    }
   ],
   "source": [
    "import pandas as pd\n",
    "import numpy as np\n",
    "from PIL import Image\n",
    "\n",
    "\n",
    "image=Image.open(\"random.jpg\")\n",
    "image_array = np.array(image)\n",
    "df = pd.DataFrame(image_array.reshape(-1, image_array.shape[-1]) if image_array.ndim == 3 else image_array)\n",
    "\n",
    "df.to_csv(\"image_data.csv\", index=False)\n",
    "print(\"Image pixel data saved to 'image_data.csv'.\")\n",
    "\n",
    "data = pd.read_csv(\"image_data.csv\")\n",
    "processed_data = data.iloc[:-1, :-1] \n",
    "print(\"Processed DataFrame:\")\n",
    "print(processed_data)\n"
   ]
  },
  {
   "cell_type": "code",
   "execution_count": null,
   "id": "9ab1a879-6721-4134-96e5-30bbf31b93d6",
   "metadata": {},
   "outputs": [],
   "source": []
  }
 ],
 "metadata": {
  "kernelspec": {
   "display_name": "Python [conda env:base] *",
   "language": "python",
   "name": "conda-base-py"
  },
  "language_info": {
   "codemirror_mode": {
    "name": "ipython",
    "version": 3
   },
   "file_extension": ".py",
   "mimetype": "text/x-python",
   "name": "python",
   "nbconvert_exporter": "python",
   "pygments_lexer": "ipython3",
   "version": "3.12.7"
  }
 },
 "nbformat": 4,
 "nbformat_minor": 5
}
